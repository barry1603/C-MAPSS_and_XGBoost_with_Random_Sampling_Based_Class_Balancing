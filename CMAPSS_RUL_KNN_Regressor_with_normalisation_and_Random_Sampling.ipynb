{
 "cells": [
  {
   "cell_type": "code",
   "execution_count": 16,
   "metadata": {
    "colab": {
     "base_uri": "https://localhost:8080/",
     "height": 36
    },
    "executionInfo": {
     "elapsed": 413,
     "status": "ok",
     "timestamp": 1686310882159,
     "user": {
      "displayName": "Ibrahima Barry",
      "userId": "00132945360445644191"
     },
     "user_tz": -120
    },
    "id": "FDalluwXbsXk",
    "outputId": "4322efbb-ab48-444a-bbac-3bdb991c8be3"
   },
   "outputs": [
    {
     "data": {
      "text/plain": [
       "\"from google.colab import drive\\ndrive.mount('/content/drive')\""
      ]
     },
     "execution_count": 16,
     "metadata": {},
     "output_type": "execute_result"
    }
   ],
   "source": [
    "'''from google.colab import drive\n",
    "drive.mount('/content/drive')'''"
   ]
  },
  {
   "cell_type": "code",
   "execution_count": 17,
   "metadata": {
    "executionInfo": {
     "elapsed": 29,
     "status": "ok",
     "timestamp": 1686310882161,
     "user": {
      "displayName": "Ibrahima Barry",
      "userId": "00132945360445644191"
     },
     "user_tz": -120
    },
    "id": "7bwRBIw1808g"
   },
   "outputs": [],
   "source": [
    "#!pip install catboost"
   ]
  },
  {
   "cell_type": "code",
   "execution_count": 18,
   "metadata": {
    "executionInfo": {
     "elapsed": 1876,
     "status": "ok",
     "timestamp": 1686310884010,
     "user": {
      "displayName": "Ibrahima Barry",
      "userId": "00132945360445644191"
     },
     "user_tz": -120
    },
    "id": "090U59DPJm7F"
   },
   "outputs": [],
   "source": [
    "import numpy as np\n",
    "import pandas as pd\n",
    "import matplotlib.pyplot as plt\n",
    "import seaborn as sns\n",
    "\n",
    "from sklearn.linear_model import LinearRegression, Lasso, Ridge, ElasticNet\n",
    "from sklearn.tree import DecisionTreeRegressor\n",
    "from sklearn.ensemble import RandomForestRegressor, GradientBoostingRegressor, AdaBoostRegressor, ExtraTreesRegressor\n",
    "from sklearn.svm import SVR\n",
    "from sklearn.neighbors import KNeighborsRegressor\n",
    "from xgboost import XGBRegressor\n",
    "from sklearn.model_selection import GridSearchCV\n",
    "\n",
    "from sklearn.metrics import mean_squared_error, mean_absolute_error\n",
    "from scipy.stats import pearsonr\n",
    "\n",
    "from sklearn.preprocessing import MinMaxScaler, StandardScaler"
   ]
  },
  {
   "cell_type": "code",
   "execution_count": 19,
   "metadata": {
    "executionInfo": {
     "elapsed": 22,
     "status": "ok",
     "timestamp": 1686310884012,
     "user": {
      "displayName": "Ibrahima Barry",
      "userId": "00132945360445644191"
     },
     "user_tz": -120
    },
    "id": "sCVZb8EK9-RF"
   },
   "outputs": [],
   "source": [
    "myfolder = \"./data/\""
   ]
  },
  {
   "cell_type": "markdown",
   "metadata": {
    "id": "eK6zG_tsRZFx"
   },
   "source": [
    "# **Columns' names**"
   ]
  },
  {
   "cell_type": "code",
   "execution_count": 20,
   "metadata": {
    "executionInfo": {
     "elapsed": 23,
     "status": "ok",
     "timestamp": 1686310884015,
     "user": {
      "displayName": "Ibrahima Barry",
      "userId": "00132945360445644191"
     },
     "user_tz": -120
    },
    "id": "03uUZbfWF9Yj"
   },
   "outputs": [],
   "source": [
    "#Columns' names\n",
    "'''\n",
    "1)  unit number\n",
    "2)\ttime, in cycles\n",
    "3)\toperational setting 1\n",
    "4)\toperational setting 2\n",
    "5)\toperational setting 3\n",
    "6)\tsensor measurement  1\n",
    "7)\tsensor measurement  2\n",
    "...\n",
    "26)\tsensor measurement  21\n",
    "'''\n",
    "unitNames = ['UnitNumber']\n",
    "timeCycles = [\"TimeInCycles\"]\n",
    "operSets = [\"OperSet\"+str(i) for i in range(1,4)] # 1,2 et 3\n",
    "sensorMes = [\"SensorMes\"+str(j) for j in range(1, 22)] # de 1 à 21\n",
    "columnsNames = unitNames + timeCycles + operSets +sensorMes"
   ]
  },
  {
   "cell_type": "markdown",
   "metadata": {
    "id": "Pk7OEGaFRpHx"
   },
   "source": [
    "# **Datasets loading**"
   ]
  },
  {
   "cell_type": "code",
   "execution_count": 21,
   "metadata": {
    "colab": {
     "base_uri": "https://localhost:8080/",
     "height": 394
    },
    "executionInfo": {
     "elapsed": 22,
     "status": "error",
     "timestamp": 1686310884016,
     "user": {
      "displayName": "Ibrahima Barry",
      "userId": "00132945360445644191"
     },
     "user_tz": -120
    },
    "id": "2zNavW8eUubj",
    "outputId": "034725ba-31d1-41dc-a477-eeb1976aac54"
   },
   "outputs": [],
   "source": [
    "def data_loading(x):\n",
    "  train_path = myfolder + \"train_\"+ x +\".txt\"\n",
    "  test_path = myfolder + \"test_\"+ x +\".txt\"\n",
    "  rul_path = myfolder + \"RUL_\"+ x +\".txt\"\n",
    "  train = pd.read_csv(train_path, delim_whitespace=True, names=columnsNames)\n",
    "  test = pd.read_csv(test_path, delim_whitespace=True, names=columnsNames)\n",
    "  rul = pd.read_csv(rul_path, delim_whitespace=True, names=[\"RUL_FD\"])\n",
    "  return train, test, rul\n",
    "\n",
    "train_fd004, test_fd004, rul_fd004 = data_loading(\"FD004\")"
   ]
  },
  {
   "cell_type": "code",
   "execution_count": 22,
   "metadata": {
    "executionInfo": {
     "elapsed": 9,
     "status": "aborted",
     "timestamp": 1686310884488,
     "user": {
      "displayName": "Ibrahima Barry",
      "userId": "00132945360445644191"
     },
     "user_tz": -120
    },
    "id": "2D0p8HcQVpPu"
   },
   "outputs": [
    {
     "data": {
      "text/html": [
       "<div>\n",
       "<style scoped>\n",
       "    .dataframe tbody tr th:only-of-type {\n",
       "        vertical-align: middle;\n",
       "    }\n",
       "\n",
       "    .dataframe tbody tr th {\n",
       "        vertical-align: top;\n",
       "    }\n",
       "\n",
       "    .dataframe thead th {\n",
       "        text-align: right;\n",
       "    }\n",
       "</style>\n",
       "<table border=\"1\" class=\"dataframe\">\n",
       "  <thead>\n",
       "    <tr style=\"text-align: right;\">\n",
       "      <th></th>\n",
       "      <th>UnitNumber</th>\n",
       "      <th>TimeInCycles</th>\n",
       "      <th>OperSet1</th>\n",
       "      <th>OperSet2</th>\n",
       "      <th>OperSet3</th>\n",
       "      <th>SensorMes1</th>\n",
       "      <th>SensorMes2</th>\n",
       "      <th>SensorMes3</th>\n",
       "      <th>SensorMes4</th>\n",
       "      <th>SensorMes5</th>\n",
       "      <th>SensorMes6</th>\n",
       "      <th>SensorMes7</th>\n",
       "      <th>SensorMes8</th>\n",
       "      <th>SensorMes9</th>\n",
       "      <th>SensorMes10</th>\n",
       "      <th>SensorMes11</th>\n",
       "      <th>SensorMes12</th>\n",
       "      <th>SensorMes13</th>\n",
       "      <th>SensorMes14</th>\n",
       "      <th>SensorMes15</th>\n",
       "      <th>SensorMes16</th>\n",
       "      <th>SensorMes17</th>\n",
       "      <th>SensorMes18</th>\n",
       "      <th>SensorMes19</th>\n",
       "      <th>SensorMes20</th>\n",
       "      <th>SensorMes21</th>\n",
       "    </tr>\n",
       "  </thead>\n",
       "  <tbody>\n",
       "    <tr>\n",
       "      <th>0</th>\n",
       "      <td>1</td>\n",
       "      <td>1</td>\n",
       "      <td>42.0049</td>\n",
       "      <td>0.8400</td>\n",
       "      <td>100.0</td>\n",
       "      <td>445.00</td>\n",
       "      <td>549.68</td>\n",
       "      <td>1343.43</td>\n",
       "      <td>1112.93</td>\n",
       "      <td>3.91</td>\n",
       "      <td>5.70</td>\n",
       "      <td>137.36</td>\n",
       "      <td>2211.86</td>\n",
       "      <td>8311.32</td>\n",
       "      <td>1.01</td>\n",
       "      <td>41.69</td>\n",
       "      <td>129.78</td>\n",
       "      <td>2387.99</td>\n",
       "      <td>8074.83</td>\n",
       "      <td>9.3335</td>\n",
       "      <td>0.02</td>\n",
       "      <td>330</td>\n",
       "      <td>2212</td>\n",
       "      <td>100.0</td>\n",
       "      <td>10.62</td>\n",
       "      <td>6.3670</td>\n",
       "    </tr>\n",
       "    <tr>\n",
       "      <th>1</th>\n",
       "      <td>1</td>\n",
       "      <td>2</td>\n",
       "      <td>20.0020</td>\n",
       "      <td>0.7002</td>\n",
       "      <td>100.0</td>\n",
       "      <td>491.19</td>\n",
       "      <td>606.07</td>\n",
       "      <td>1477.61</td>\n",
       "      <td>1237.50</td>\n",
       "      <td>9.35</td>\n",
       "      <td>13.61</td>\n",
       "      <td>332.10</td>\n",
       "      <td>2323.66</td>\n",
       "      <td>8713.60</td>\n",
       "      <td>1.07</td>\n",
       "      <td>43.94</td>\n",
       "      <td>312.59</td>\n",
       "      <td>2387.73</td>\n",
       "      <td>8046.13</td>\n",
       "      <td>9.1913</td>\n",
       "      <td>0.02</td>\n",
       "      <td>361</td>\n",
       "      <td>2324</td>\n",
       "      <td>100.0</td>\n",
       "      <td>24.37</td>\n",
       "      <td>14.6552</td>\n",
       "    </tr>\n",
       "    <tr>\n",
       "      <th>2</th>\n",
       "      <td>1</td>\n",
       "      <td>3</td>\n",
       "      <td>42.0038</td>\n",
       "      <td>0.8409</td>\n",
       "      <td>100.0</td>\n",
       "      <td>445.00</td>\n",
       "      <td>548.95</td>\n",
       "      <td>1343.12</td>\n",
       "      <td>1117.05</td>\n",
       "      <td>3.91</td>\n",
       "      <td>5.69</td>\n",
       "      <td>138.18</td>\n",
       "      <td>2211.92</td>\n",
       "      <td>8306.69</td>\n",
       "      <td>1.01</td>\n",
       "      <td>41.66</td>\n",
       "      <td>129.62</td>\n",
       "      <td>2387.97</td>\n",
       "      <td>8066.62</td>\n",
       "      <td>9.4007</td>\n",
       "      <td>0.02</td>\n",
       "      <td>329</td>\n",
       "      <td>2212</td>\n",
       "      <td>100.0</td>\n",
       "      <td>10.48</td>\n",
       "      <td>6.4213</td>\n",
       "    </tr>\n",
       "  </tbody>\n",
       "</table>\n",
       "</div>"
      ],
      "text/plain": [
       "   UnitNumber  TimeInCycles  OperSet1  OperSet2  OperSet3  SensorMes1  \\\n",
       "0           1             1   42.0049    0.8400     100.0      445.00   \n",
       "1           1             2   20.0020    0.7002     100.0      491.19   \n",
       "2           1             3   42.0038    0.8409     100.0      445.00   \n",
       "\n",
       "   SensorMes2  SensorMes3  SensorMes4  SensorMes5  SensorMes6  SensorMes7  \\\n",
       "0      549.68     1343.43     1112.93        3.91        5.70      137.36   \n",
       "1      606.07     1477.61     1237.50        9.35       13.61      332.10   \n",
       "2      548.95     1343.12     1117.05        3.91        5.69      138.18   \n",
       "\n",
       "   SensorMes8  SensorMes9  SensorMes10  SensorMes11  SensorMes12  SensorMes13  \\\n",
       "0     2211.86     8311.32         1.01        41.69       129.78      2387.99   \n",
       "1     2323.66     8713.60         1.07        43.94       312.59      2387.73   \n",
       "2     2211.92     8306.69         1.01        41.66       129.62      2387.97   \n",
       "\n",
       "   SensorMes14  SensorMes15  SensorMes16  SensorMes17  SensorMes18  \\\n",
       "0      8074.83       9.3335         0.02          330         2212   \n",
       "1      8046.13       9.1913         0.02          361         2324   \n",
       "2      8066.62       9.4007         0.02          329         2212   \n",
       "\n",
       "   SensorMes19  SensorMes20  SensorMes21  \n",
       "0        100.0        10.62       6.3670  \n",
       "1        100.0        24.37      14.6552  \n",
       "2        100.0        10.48       6.4213  "
      ]
     },
     "execution_count": 22,
     "metadata": {},
     "output_type": "execute_result"
    }
   ],
   "source": [
    "# Forcer l'affichage de toutes les colonnes\n",
    "pd.set_option('display.max_columns', None)\n",
    "\n",
    "train_fd004.head(3)"
   ]
  },
  {
   "cell_type": "markdown",
   "metadata": {
    "id": "-iHEenEWSFa2"
   },
   "source": [
    "# **RUL column generation for train and test set**"
   ]
  },
  {
   "cell_type": "code",
   "execution_count": 23,
   "metadata": {
    "executionInfo": {
     "elapsed": 10,
     "status": "aborted",
     "timestamp": 1686310884490,
     "user": {
      "displayName": "Ibrahima Barry",
      "userId": "00132945360445644191"
     },
     "user_tz": -120
    },
    "id": "iQLmNp5STg3q"
   },
   "outputs": [],
   "source": [
    "def rul_train_generation(x):\n",
    "  rul = pd.DataFrame(x.groupby('UnitNumber')['TimeInCycles'].max()).reset_index()\n",
    "  rul.columns = ['UnitNumber', 'max']\n",
    "  x = x.merge(rul, on=['UnitNumber'], how='left')\n",
    "  x['RUL'] = x['max'] - x['TimeInCycles']\n",
    "  x.drop('max', axis=1, inplace=True)\n",
    "  return x\n",
    "\n",
    "train_fd004 = rul_train_generation(train_fd004)"
   ]
  },
  {
   "cell_type": "code",
   "execution_count": 24,
   "metadata": {
    "executionInfo": {
     "elapsed": 10,
     "status": "aborted",
     "timestamp": 1686310884490,
     "user": {
      "displayName": "Ibrahima Barry",
      "userId": "00132945360445644191"
     },
     "user_tz": -120
    },
    "id": "2b0ThgOYbOJq"
   },
   "outputs": [
    {
     "data": {
      "text/html": [
       "<div>\n",
       "<style scoped>\n",
       "    .dataframe tbody tr th:only-of-type {\n",
       "        vertical-align: middle;\n",
       "    }\n",
       "\n",
       "    .dataframe tbody tr th {\n",
       "        vertical-align: top;\n",
       "    }\n",
       "\n",
       "    .dataframe thead th {\n",
       "        text-align: right;\n",
       "    }\n",
       "</style>\n",
       "<table border=\"1\" class=\"dataframe\">\n",
       "  <thead>\n",
       "    <tr style=\"text-align: right;\">\n",
       "      <th></th>\n",
       "      <th>UnitNumber</th>\n",
       "      <th>TimeInCycles</th>\n",
       "      <th>OperSet1</th>\n",
       "      <th>OperSet2</th>\n",
       "      <th>OperSet3</th>\n",
       "      <th>SensorMes1</th>\n",
       "      <th>SensorMes2</th>\n",
       "      <th>SensorMes3</th>\n",
       "      <th>SensorMes4</th>\n",
       "      <th>SensorMes5</th>\n",
       "      <th>SensorMes6</th>\n",
       "      <th>SensorMes7</th>\n",
       "      <th>SensorMes8</th>\n",
       "      <th>SensorMes9</th>\n",
       "      <th>SensorMes10</th>\n",
       "      <th>SensorMes11</th>\n",
       "      <th>SensorMes12</th>\n",
       "      <th>SensorMes13</th>\n",
       "      <th>SensorMes14</th>\n",
       "      <th>SensorMes15</th>\n",
       "      <th>SensorMes16</th>\n",
       "      <th>SensorMes17</th>\n",
       "      <th>SensorMes18</th>\n",
       "      <th>SensorMes19</th>\n",
       "      <th>SensorMes20</th>\n",
       "      <th>SensorMes21</th>\n",
       "      <th>RUL</th>\n",
       "    </tr>\n",
       "  </thead>\n",
       "  <tbody>\n",
       "    <tr>\n",
       "      <th>0</th>\n",
       "      <td>1</td>\n",
       "      <td>1</td>\n",
       "      <td>42.0049</td>\n",
       "      <td>0.8400</td>\n",
       "      <td>100.0</td>\n",
       "      <td>445.00</td>\n",
       "      <td>549.68</td>\n",
       "      <td>1343.43</td>\n",
       "      <td>1112.93</td>\n",
       "      <td>3.91</td>\n",
       "      <td>5.70</td>\n",
       "      <td>137.36</td>\n",
       "      <td>2211.86</td>\n",
       "      <td>8311.32</td>\n",
       "      <td>1.01</td>\n",
       "      <td>41.69</td>\n",
       "      <td>129.78</td>\n",
       "      <td>2387.99</td>\n",
       "      <td>8074.83</td>\n",
       "      <td>9.3335</td>\n",
       "      <td>0.02</td>\n",
       "      <td>330</td>\n",
       "      <td>2212</td>\n",
       "      <td>100.0</td>\n",
       "      <td>10.62</td>\n",
       "      <td>6.3670</td>\n",
       "      <td>320</td>\n",
       "    </tr>\n",
       "    <tr>\n",
       "      <th>1</th>\n",
       "      <td>1</td>\n",
       "      <td>2</td>\n",
       "      <td>20.0020</td>\n",
       "      <td>0.7002</td>\n",
       "      <td>100.0</td>\n",
       "      <td>491.19</td>\n",
       "      <td>606.07</td>\n",
       "      <td>1477.61</td>\n",
       "      <td>1237.50</td>\n",
       "      <td>9.35</td>\n",
       "      <td>13.61</td>\n",
       "      <td>332.10</td>\n",
       "      <td>2323.66</td>\n",
       "      <td>8713.60</td>\n",
       "      <td>1.07</td>\n",
       "      <td>43.94</td>\n",
       "      <td>312.59</td>\n",
       "      <td>2387.73</td>\n",
       "      <td>8046.13</td>\n",
       "      <td>9.1913</td>\n",
       "      <td>0.02</td>\n",
       "      <td>361</td>\n",
       "      <td>2324</td>\n",
       "      <td>100.0</td>\n",
       "      <td>24.37</td>\n",
       "      <td>14.6552</td>\n",
       "      <td>319</td>\n",
       "    </tr>\n",
       "    <tr>\n",
       "      <th>2</th>\n",
       "      <td>1</td>\n",
       "      <td>3</td>\n",
       "      <td>42.0038</td>\n",
       "      <td>0.8409</td>\n",
       "      <td>100.0</td>\n",
       "      <td>445.00</td>\n",
       "      <td>548.95</td>\n",
       "      <td>1343.12</td>\n",
       "      <td>1117.05</td>\n",
       "      <td>3.91</td>\n",
       "      <td>5.69</td>\n",
       "      <td>138.18</td>\n",
       "      <td>2211.92</td>\n",
       "      <td>8306.69</td>\n",
       "      <td>1.01</td>\n",
       "      <td>41.66</td>\n",
       "      <td>129.62</td>\n",
       "      <td>2387.97</td>\n",
       "      <td>8066.62</td>\n",
       "      <td>9.4007</td>\n",
       "      <td>0.02</td>\n",
       "      <td>329</td>\n",
       "      <td>2212</td>\n",
       "      <td>100.0</td>\n",
       "      <td>10.48</td>\n",
       "      <td>6.4213</td>\n",
       "      <td>318</td>\n",
       "    </tr>\n",
       "  </tbody>\n",
       "</table>\n",
       "</div>"
      ],
      "text/plain": [
       "   UnitNumber  TimeInCycles  OperSet1  OperSet2  OperSet3  SensorMes1  \\\n",
       "0           1             1   42.0049    0.8400     100.0      445.00   \n",
       "1           1             2   20.0020    0.7002     100.0      491.19   \n",
       "2           1             3   42.0038    0.8409     100.0      445.00   \n",
       "\n",
       "   SensorMes2  SensorMes3  SensorMes4  SensorMes5  SensorMes6  SensorMes7  \\\n",
       "0      549.68     1343.43     1112.93        3.91        5.70      137.36   \n",
       "1      606.07     1477.61     1237.50        9.35       13.61      332.10   \n",
       "2      548.95     1343.12     1117.05        3.91        5.69      138.18   \n",
       "\n",
       "   SensorMes8  SensorMes9  SensorMes10  SensorMes11  SensorMes12  SensorMes13  \\\n",
       "0     2211.86     8311.32         1.01        41.69       129.78      2387.99   \n",
       "1     2323.66     8713.60         1.07        43.94       312.59      2387.73   \n",
       "2     2211.92     8306.69         1.01        41.66       129.62      2387.97   \n",
       "\n",
       "   SensorMes14  SensorMes15  SensorMes16  SensorMes17  SensorMes18  \\\n",
       "0      8074.83       9.3335         0.02          330         2212   \n",
       "1      8046.13       9.1913         0.02          361         2324   \n",
       "2      8066.62       9.4007         0.02          329         2212   \n",
       "\n",
       "   SensorMes19  SensorMes20  SensorMes21  RUL  \n",
       "0        100.0        10.62       6.3670  320  \n",
       "1        100.0        24.37      14.6552  319  \n",
       "2        100.0        10.48       6.4213  318  "
      ]
     },
     "execution_count": 24,
     "metadata": {},
     "output_type": "execute_result"
    }
   ],
   "source": [
    "train_fd004.head(3)"
   ]
  },
  {
   "cell_type": "code",
   "execution_count": 25,
   "metadata": {
    "executionInfo": {
     "elapsed": 11,
     "status": "aborted",
     "timestamp": 1686310884491,
     "user": {
      "displayName": "Ibrahima Barry",
      "userId": "00132945360445644191"
     },
     "user_tz": -120
    },
    "id": "SO9r-mpZXPjO"
   },
   "outputs": [],
   "source": [
    "def rul_test_generation(x, rul):\n",
    "\n",
    "  rul[\"UnitNumber\"] = rul.index + 1 # +1 pour que UnitNumber demarre de 1 au lieu de 0, car il s'agit du numero des moteur\n",
    "\n",
    "  x = x.merge(rul, on=['UnitNumber'], how='left')\n",
    "\n",
    "  max_cycle = pd.DataFrame(x.groupby('UnitNumber')['TimeInCycles'].max()).reset_index()\n",
    "  max_cycle.columns = ['UnitNumber', 'max']\n",
    "  x = x.merge(max_cycle, on=['UnitNumber'], how='left')\n",
    "  x['RUL'] = x['RUL_FD'] + x['max'] - x['TimeInCycles']\n",
    "  x.drop(['max', 'RUL_FD'], axis=1, inplace=True)\n",
    "\n",
    "  return x\n",
    "\n",
    "test_fd004 = rul_test_generation(test_fd004, rul_fd004)"
   ]
  },
  {
   "cell_type": "code",
   "execution_count": 26,
   "metadata": {
    "executionInfo": {
     "elapsed": 14,
     "status": "aborted",
     "timestamp": 1686310884494,
     "user": {
      "displayName": "Ibrahima Barry",
      "userId": "00132945360445644191"
     },
     "user_tz": -120
    },
    "id": "UsgIhGIrbbGe"
   },
   "outputs": [
    {
     "data": {
      "text/html": [
       "<div>\n",
       "<style scoped>\n",
       "    .dataframe tbody tr th:only-of-type {\n",
       "        vertical-align: middle;\n",
       "    }\n",
       "\n",
       "    .dataframe tbody tr th {\n",
       "        vertical-align: top;\n",
       "    }\n",
       "\n",
       "    .dataframe thead th {\n",
       "        text-align: right;\n",
       "    }\n",
       "</style>\n",
       "<table border=\"1\" class=\"dataframe\">\n",
       "  <thead>\n",
       "    <tr style=\"text-align: right;\">\n",
       "      <th></th>\n",
       "      <th>UnitNumber</th>\n",
       "      <th>TimeInCycles</th>\n",
       "      <th>OperSet1</th>\n",
       "      <th>OperSet2</th>\n",
       "      <th>OperSet3</th>\n",
       "      <th>SensorMes1</th>\n",
       "      <th>SensorMes2</th>\n",
       "      <th>SensorMes3</th>\n",
       "      <th>SensorMes4</th>\n",
       "      <th>SensorMes5</th>\n",
       "      <th>SensorMes6</th>\n",
       "      <th>SensorMes7</th>\n",
       "      <th>SensorMes8</th>\n",
       "      <th>SensorMes9</th>\n",
       "      <th>SensorMes10</th>\n",
       "      <th>SensorMes11</th>\n",
       "      <th>SensorMes12</th>\n",
       "      <th>SensorMes13</th>\n",
       "      <th>SensorMes14</th>\n",
       "      <th>SensorMes15</th>\n",
       "      <th>SensorMes16</th>\n",
       "      <th>SensorMes17</th>\n",
       "      <th>SensorMes18</th>\n",
       "      <th>SensorMes19</th>\n",
       "      <th>SensorMes20</th>\n",
       "      <th>SensorMes21</th>\n",
       "      <th>RUL</th>\n",
       "    </tr>\n",
       "  </thead>\n",
       "  <tbody>\n",
       "    <tr>\n",
       "      <th>0</th>\n",
       "      <td>1</td>\n",
       "      <td>1</td>\n",
       "      <td>20.0072</td>\n",
       "      <td>0.700</td>\n",
       "      <td>100.0</td>\n",
       "      <td>491.19</td>\n",
       "      <td>606.67</td>\n",
       "      <td>1481.04</td>\n",
       "      <td>1227.81</td>\n",
       "      <td>9.35</td>\n",
       "      <td>13.60</td>\n",
       "      <td>332.52</td>\n",
       "      <td>2323.67</td>\n",
       "      <td>8704.98</td>\n",
       "      <td>1.07</td>\n",
       "      <td>43.83</td>\n",
       "      <td>313.03</td>\n",
       "      <td>2387.78</td>\n",
       "      <td>8048.98</td>\n",
       "      <td>9.2229</td>\n",
       "      <td>0.02</td>\n",
       "      <td>362</td>\n",
       "      <td>2324</td>\n",
       "      <td>100.00</td>\n",
       "      <td>24.31</td>\n",
       "      <td>14.7007</td>\n",
       "      <td>251</td>\n",
       "    </tr>\n",
       "    <tr>\n",
       "      <th>1</th>\n",
       "      <td>1</td>\n",
       "      <td>2</td>\n",
       "      <td>24.9984</td>\n",
       "      <td>0.620</td>\n",
       "      <td>60.0</td>\n",
       "      <td>462.54</td>\n",
       "      <td>536.22</td>\n",
       "      <td>1256.17</td>\n",
       "      <td>1031.48</td>\n",
       "      <td>7.05</td>\n",
       "      <td>9.00</td>\n",
       "      <td>174.46</td>\n",
       "      <td>1915.21</td>\n",
       "      <td>7999.94</td>\n",
       "      <td>0.93</td>\n",
       "      <td>36.11</td>\n",
       "      <td>163.61</td>\n",
       "      <td>2028.09</td>\n",
       "      <td>7863.46</td>\n",
       "      <td>10.8632</td>\n",
       "      <td>0.02</td>\n",
       "      <td>306</td>\n",
       "      <td>1915</td>\n",
       "      <td>84.93</td>\n",
       "      <td>14.36</td>\n",
       "      <td>8.5748</td>\n",
       "      <td>250</td>\n",
       "    </tr>\n",
       "    <tr>\n",
       "      <th>2</th>\n",
       "      <td>1</td>\n",
       "      <td>3</td>\n",
       "      <td>42.0000</td>\n",
       "      <td>0.842</td>\n",
       "      <td>100.0</td>\n",
       "      <td>445.00</td>\n",
       "      <td>549.23</td>\n",
       "      <td>1340.13</td>\n",
       "      <td>1105.88</td>\n",
       "      <td>3.91</td>\n",
       "      <td>5.69</td>\n",
       "      <td>137.34</td>\n",
       "      <td>2211.93</td>\n",
       "      <td>8305.38</td>\n",
       "      <td>1.01</td>\n",
       "      <td>41.52</td>\n",
       "      <td>129.98</td>\n",
       "      <td>2387.95</td>\n",
       "      <td>8071.13</td>\n",
       "      <td>9.3960</td>\n",
       "      <td>0.02</td>\n",
       "      <td>328</td>\n",
       "      <td>2212</td>\n",
       "      <td>100.00</td>\n",
       "      <td>10.39</td>\n",
       "      <td>6.4365</td>\n",
       "      <td>249</td>\n",
       "    </tr>\n",
       "  </tbody>\n",
       "</table>\n",
       "</div>"
      ],
      "text/plain": [
       "   UnitNumber  TimeInCycles  OperSet1  OperSet2  OperSet3  SensorMes1  \\\n",
       "0           1             1   20.0072     0.700     100.0      491.19   \n",
       "1           1             2   24.9984     0.620      60.0      462.54   \n",
       "2           1             3   42.0000     0.842     100.0      445.00   \n",
       "\n",
       "   SensorMes2  SensorMes3  SensorMes4  SensorMes5  SensorMes6  SensorMes7  \\\n",
       "0      606.67     1481.04     1227.81        9.35       13.60      332.52   \n",
       "1      536.22     1256.17     1031.48        7.05        9.00      174.46   \n",
       "2      549.23     1340.13     1105.88        3.91        5.69      137.34   \n",
       "\n",
       "   SensorMes8  SensorMes9  SensorMes10  SensorMes11  SensorMes12  SensorMes13  \\\n",
       "0     2323.67     8704.98         1.07        43.83       313.03      2387.78   \n",
       "1     1915.21     7999.94         0.93        36.11       163.61      2028.09   \n",
       "2     2211.93     8305.38         1.01        41.52       129.98      2387.95   \n",
       "\n",
       "   SensorMes14  SensorMes15  SensorMes16  SensorMes17  SensorMes18  \\\n",
       "0      8048.98       9.2229         0.02          362         2324   \n",
       "1      7863.46      10.8632         0.02          306         1915   \n",
       "2      8071.13       9.3960         0.02          328         2212   \n",
       "\n",
       "   SensorMes19  SensorMes20  SensorMes21  RUL  \n",
       "0       100.00        24.31      14.7007  251  \n",
       "1        84.93        14.36       8.5748  250  \n",
       "2       100.00        10.39       6.4365  249  "
      ]
     },
     "execution_count": 26,
     "metadata": {},
     "output_type": "execute_result"
    }
   ],
   "source": [
    "test_fd004.head(3)"
   ]
  },
  {
   "cell_type": "markdown",
   "metadata": {
    "id": "L8m9gYB3Q7Hk"
   },
   "source": [
    "# **Random-Sampling Based Class Balancing**"
   ]
  },
  {
   "cell_type": "code",
   "execution_count": 27,
   "metadata": {
    "executionInfo": {
     "elapsed": 15,
     "status": "aborted",
     "timestamp": 1686310884495,
     "user": {
      "displayName": "Ibrahima Barry",
      "userId": "00132945360445644191"
     },
     "user_tz": -120
    },
    "id": "U-YzlssEQ7Hl"
   },
   "outputs": [
    {
     "data": {
      "text/plain": [
       "\"element_counts = test_fd002[test_fd002['UnitNumber']==1]\\nlen(element_counts)\""
      ]
     },
     "execution_count": 27,
     "metadata": {},
     "output_type": "execute_result"
    }
   ],
   "source": [
    "'''element_counts = test_fd002[test_fd002['UnitNumber']==1]\n",
    "len(element_counts)'''"
   ]
  },
  {
   "cell_type": "code",
   "execution_count": 28,
   "metadata": {
    "executionInfo": {
     "elapsed": 15,
     "status": "aborted",
     "timestamp": 1686310884496,
     "user": {
      "displayName": "Ibrahima Barry",
      "userId": "00132945360445644191"
     },
     "user_tz": -120
    },
    "id": "3ogEKLWfQ7Hm"
   },
   "outputs": [],
   "source": [
    "import random\n",
    "\n",
    "def selection_aleatoire(df, sample_size, rand_state):\n",
    "    unique_values = df[\"UnitNumber\"].unique()\n",
    "    selected_rows = []\n",
    "    for value in unique_values:\n",
    "        rows = df[df[\"UnitNumber\"] == value]\n",
    "        if len(rows) < sample_size : # si la taille de l'echantillon donnée est superieur au nombre total de ligne pour un moteur, reinitialiser la valeur\n",
    "            sample_size = len(rows)\n",
    "        random_sample = rows.sample(n=sample_size, random_state = rand_state)  # Sélectionne 50 lignes aléatoires\n",
    "        selected_rows.append(random_sample)\n",
    "    result = pd.concat(selected_rows)\n",
    "    return result"
   ]
  },
  {
   "cell_type": "markdown",
   "metadata": {
    "id": "phZTpM6fQ7Hm"
   },
   "source": [
    "# **Data normalization**"
   ]
  },
  {
   "cell_type": "code",
   "execution_count": 29,
   "metadata": {
    "executionInfo": {
     "elapsed": 17,
     "status": "aborted",
     "timestamp": 1686310884498,
     "user": {
      "displayName": "Ibrahima Barry",
      "userId": "00132945360445644191"
     },
     "user_tz": -120
    },
    "id": "_NZIBGyfZAdU"
   },
   "outputs": [],
   "source": [
    "def normalised_df(train, test):\n",
    "\n",
    "  from sklearn.preprocessing import MinMaxScaler\n",
    "\n",
    "  # Instancier l'objet MinMaxScaler pour normaliser les données\n",
    "  scaler = MinMaxScaler()\n",
    "\n",
    "  # Normaliser train\n",
    "  train_scaled = scaler.fit_transform(train)\n",
    "  train_df = pd.DataFrame(train_scaled)\n",
    "\n",
    "  # Normaliser test\n",
    "  test_scaled = scaler.fit_transform(test)\n",
    "  test_df = pd.DataFrame(test_scaled)\n",
    "\n",
    "\n",
    "  train_df.columns = train.columns\n",
    "  test_df.columns = test.columns\n",
    "    \n",
    "  return train_df, test_df"
   ]
  },
  {
   "cell_type": "markdown",
   "metadata": {
    "id": "saXzvQieSZi7"
   },
   "source": [
    "# **Data splitting**"
   ]
  },
  {
   "cell_type": "code",
   "execution_count": 30,
   "metadata": {
    "executionInfo": {
     "elapsed": 19,
     "status": "aborted",
     "timestamp": 1686310884500,
     "user": {
      "displayName": "Ibrahima Barry",
      "userId": "00132945360445644191"
     },
     "user_tz": -120
    },
    "id": "lZWWDPa-QZ6A"
   },
   "outputs": [],
   "source": [
    "def data_split(train, test):\n",
    "\n",
    "  # data split\n",
    "  X_train = train.drop('RUL', axis=1)\n",
    "  Y_train = train['RUL']\n",
    "  X_test = test.drop('RUL', axis=1)\n",
    "  Y_test = test['RUL']\n",
    "    \n",
    "  return X_train, Y_train, X_test, Y_test\n"
   ]
  },
  {
   "cell_type": "markdown",
   "metadata": {
    "id": "6ME9D2ueVxeT"
   },
   "source": [
    "# **The KNN Regressor model**"
   ]
  },
  {
   "cell_type": "code",
   "execution_count": 31,
   "metadata": {
    "executionInfo": {
     "elapsed": 276,
     "status": "ok",
     "timestamp": 1686310892646,
     "user": {
      "displayName": "Ibrahima Barry",
      "userId": "00132945360445644191"
     },
     "user_tz": -120
    },
    "id": "ulZGXcj_Oold"
   },
   "outputs": [],
   "source": [
    "import time\n",
    "\n",
    "def my_knn_regressor(x, y):\n",
    "\n",
    "    # Time tracking, Operation time (min)\n",
    "    t = time.process_time()\n",
    "    \n",
    "    t = time.process_time()\n",
    "\n",
    "    mse_test_list = []\n",
    "    rmse_test_list = []\n",
    "    mae_test_list = []\n",
    "    \n",
    "    for j in range(1, 11):\n",
    "        \n",
    "        normalized_train_df, normalized_test_df =  normalised_df(x, y)\n",
    "        \n",
    "        train_selected = selection_aleatoire(normalized_train_df, 50, j)\n",
    "        test_selected = selection_aleatoire(normalized_test_df, 25, j)\n",
    "\n",
    "\n",
    "        X_train, Y_train, X_test, Y_test = data_split(train_selected, test_selected)\n",
    "\n",
    "        '''print(\"===============\",j,\"=====================\")\n",
    "        print('La taille de X_train est:', X_train.shape)\n",
    "        print('La taille de Y_train est:', Y_train.shape)\n",
    "        print('La taille de X_test est:', X_test.shape)\n",
    "        print('La taille de Y_test est:', Y_test.shape)'''\n",
    "\n",
    "        # Créer le modèle KNN Regressor\n",
    "        model = KNeighborsRegressor()\n",
    "\n",
    "        # Définir les paramètres à tester dans la recherche par grille\n",
    "        '''param_grid = {\n",
    "            'n_neighbors': np.arange(1, 150),  # Increase the range up to 500\n",
    "            'weights': ['uniform', 'distance'],\n",
    "            'algorithm': ['auto', 'ball_tree', 'kd_tree', 'brute'],  # Add 'algorithm' hyperparameter\n",
    "            'leaf_size': np.arange(1, 60),  # Add 'leaf_size' hyperparameter\n",
    "            'p': [1, 2],  # Add 'p' hyperparameter\n",
    "            'metric': ['euclidean', 'manhattan', 'minkowski', 'chebyshev'],  # Add 'chebyshev' in 'metric'\n",
    "            'metric_params': [None],  # Add 'metric_params' hyperparameter\n",
    "            'n_jobs': [None, -1]  # Add 'n_jobs' hyperparameter\n",
    "        }'''\n",
    "        param_grid = {\n",
    "          'n_neighbors': np.arange(1, 100),\n",
    "          'weights': ['uniform', 'distance'],\n",
    "          'metric': ['euclidean', 'manhattan', 'minkowski', 'chebyshev']\n",
    "          }\n",
    "        # Créer l'objet GridSearchCV\n",
    "        grid_search = GridSearchCV(model, param_grid, cv=5, scoring='neg_mean_squared_error')\n",
    "\n",
    "        # Effectuer la recherche par grille sur les données d'entraînement\n",
    "        grid_search.fit(X_train, Y_train)\n",
    "\n",
    "        print(\"\\n***********************TOUR No \",j,\"/10:************************\")\n",
    "\n",
    "        # Afficher les meilleurs paramètres trouvés\n",
    "        print(\"Meilleurs paramètres trouvés :\")\n",
    "        print(grid_search.best_params_)\n",
    "\n",
    "        '''#-------------Train---------------------\n",
    "        # Prédire les valeurs en utilisant le modèle KNN Regressor pour les données Train\n",
    "        y_pred_train = grid_search.predict(X_train)\n",
    "        # Afficher l'erreur quadratique moyenne et le coefficient de détermination R2\n",
    "        mse_train = mean_squared_error(Y_train, y_pred_train)\n",
    "        rmse_train = np.sqrt(mse_train)\n",
    "        print('Train:==========================================================')\n",
    "        print('MSE : ',mse_train * 100,'%')\n",
    "        print('RMSE : ',rmse_train * 100,'%')'''\n",
    "\n",
    "\n",
    "        #-------------Test---------------------\n",
    "        # Prédire les valeurs en utilisant le modèle KNN Regressor pour les données Test\n",
    "        y_pred_test = grid_search.predict(X_test)\n",
    "        # Afficher l'erreur quadratique moyenne et le coefficient de détermination R2\n",
    "        mse_test = mean_squared_error(Y_test, y_pred_test)\n",
    "        rmse_test = np.sqrt(mse_test)\n",
    "        mae_test = mean_absolute_error(Y_test, y_pred_test)\n",
    "\n",
    "        print('\\n=============================Test=============================')\n",
    "        print('MSE : ',mse_test * 100,'%')\n",
    "        print('RMSE : ',rmse_test * 100,'%')\n",
    "        print('MAE : ',mae_test * 100,'%')\n",
    "\n",
    "        #score\n",
    "        '''train_rmse_list.append(mse_train)'''\n",
    "        mse_test_list.append(mse_test)\n",
    "        rmse_test_list.append(rmse_test)\n",
    "        mae_test_list.append(mae_test)\n",
    "        \n",
    "        \n",
    "        print(\"++++++++++++++++++++++++++++++++++++++++++++++++++++++++++++\")\n",
    "        print(\"time: \" , (time.process_time()-t)/60,\"min\")\n",
    "        print('')\n",
    "\n",
    "    print(\"\\n\\n++++++++++++++++++++++++++++++++++++++++++++++++++++++++++++\")\n",
    "    print(\"Total time: \" , (time.process_time()-t)/60,\"min\")\n",
    "                              \n",
    "    print('All MSE: ',mse_test_list)\n",
    "    print('\\n\\nmean MSE', np.mean(mse_test_list), \" == \",np.mean(mse_test_list)*100,\"%\\n\\n\")\n",
    "    \n",
    "    print('All RMSE: ',rmse_test_list)\n",
    "    print('\\n\\n******************************************************************************************')\n",
    "    print('******************************************************************************************')\n",
    "    print('***************** mean RMSE', np.mean(rmse_test_list), \" ==> \",np.mean(rmse_test_list)*100,\"% *****************\")\n",
    "    print('******************************************************************************************')\n",
    "    print('******************************************************************************************\\n\\n')\n",
    "\n",
    "\n",
    "    print('mean MAE : ', np.mean(mae_test_list) * 100,'%')"
   ]
  },
  {
   "cell_type": "code",
   "execution_count": 32,
   "metadata": {
    "colab": {
     "base_uri": "https://localhost:8080/",
     "height": 171
    },
    "executionInfo": {
     "elapsed": 286,
     "status": "error",
     "timestamp": 1686310909755,
     "user": {
      "displayName": "Ibrahima Barry",
      "userId": "00132945360445644191"
     },
     "user_tz": -120
    },
    "id": "0FI97PekYCbq",
    "outputId": "8a4702f4-7272-441e-f347-a620399173ac",
    "scrolled": true
   },
   "outputs": [
    {
     "name": "stdout",
     "output_type": "stream",
     "text": [
      "\n",
      "***********************TOUR No  1 /10:************************\n",
      "Meilleurs paramètres trouvés :\n",
      "{'metric': 'manhattan', 'n_neighbors': 34, 'weights': 'distance'}\n",
      "\n",
      "=============================Test=============================\n",
      "MSE :  1.6714430639173192 %\n",
      "RMSE :  12.92843015960298 %\n",
      "MAE :  9.420596974886013 %\n",
      "++++++++++++++++++++++++++++++++++++++++++++++++++++++++++++\n",
      "time:  81.67369791666667 min\n",
      "\n",
      "\n",
      "***********************TOUR No  2 /10:************************\n",
      "Meilleurs paramètres trouvés :\n",
      "{'metric': 'manhattan', 'n_neighbors': 36, 'weights': 'distance'}\n",
      "\n",
      "=============================Test=============================\n",
      "MSE :  1.7563598420910937 %\n",
      "RMSE :  13.2527726989151 %\n",
      "MAE :  9.739510507672053 %\n",
      "++++++++++++++++++++++++++++++++++++++++++++++++++++++++++++\n",
      "time:  173.22161458333332 min\n",
      "\n",
      "\n",
      "***********************TOUR No  3 /10:************************\n",
      "Meilleurs paramètres trouvés :\n",
      "{'metric': 'manhattan', 'n_neighbors': 39, 'weights': 'distance'}\n",
      "\n",
      "=============================Test=============================\n",
      "MSE :  1.7268396127028 %\n",
      "RMSE :  13.140926956279758 %\n",
      "MAE :  9.594468659948681 %\n",
      "++++++++++++++++++++++++++++++++++++++++++++++++++++++++++++\n",
      "time:  239.99713541666668 min\n",
      "\n",
      "\n",
      "***********************TOUR No  4 /10:************************\n",
      "Meilleurs paramètres trouvés :\n",
      "{'metric': 'manhattan', 'n_neighbors': 40, 'weights': 'distance'}\n",
      "\n",
      "=============================Test=============================\n",
      "MSE :  1.704074961682368 %\n",
      "RMSE :  13.054022221837865 %\n",
      "MAE :  9.572290551304288 %\n",
      "++++++++++++++++++++++++++++++++++++++++++++++++++++++++++++\n",
      "time:  306.9817708333333 min\n",
      "\n",
      "\n",
      "***********************TOUR No  5 /10:************************\n",
      "Meilleurs paramètres trouvés :\n",
      "{'metric': 'manhattan', 'n_neighbors': 46, 'weights': 'distance'}\n",
      "\n",
      "=============================Test=============================\n",
      "MSE :  1.6437080486697988 %\n",
      "RMSE :  12.820717798430003 %\n",
      "MAE :  9.250251990908378 %\n",
      "++++++++++++++++++++++++++++++++++++++++++++++++++++++++++++\n",
      "time:  373.65989583333334 min\n",
      "\n",
      "\n",
      "***********************TOUR No  6 /10:************************\n",
      "Meilleurs paramètres trouvés :\n",
      "{'metric': 'manhattan', 'n_neighbors': 35, 'weights': 'distance'}\n",
      "\n",
      "=============================Test=============================\n",
      "MSE :  1.7480372200215013 %\n",
      "RMSE :  13.221335862996225 %\n",
      "MAE :  9.699944247153198 %\n",
      "++++++++++++++++++++++++++++++++++++++++++++++++++++++++++++\n",
      "time:  440.73203125 min\n",
      "\n",
      "\n",
      "***********************TOUR No  7 /10:************************\n",
      "Meilleurs paramètres trouvés :\n",
      "{'metric': 'manhattan', 'n_neighbors': 35, 'weights': 'distance'}\n",
      "\n",
      "=============================Test=============================\n",
      "MSE :  1.6949022395111417 %\n",
      "RMSE :  13.018841113982232 %\n",
      "MAE :  9.458566989177113 %\n",
      "++++++++++++++++++++++++++++++++++++++++++++++++++++++++++++\n",
      "time:  507.78046875 min\n",
      "\n",
      "\n",
      "***********************TOUR No  8 /10:************************\n",
      "Meilleurs paramètres trouvés :\n",
      "{'metric': 'manhattan', 'n_neighbors': 38, 'weights': 'distance'}\n",
      "\n",
      "=============================Test=============================\n",
      "MSE :  1.7570510670360053 %\n",
      "RMSE :  13.255380292681176 %\n",
      "MAE :  9.641564064095823 %\n",
      "++++++++++++++++++++++++++++++++++++++++++++++++++++++++++++\n",
      "time:  574.1713541666667 min\n",
      "\n",
      "\n",
      "***********************TOUR No  9 /10:************************\n",
      "Meilleurs paramètres trouvés :\n",
      "{'metric': 'manhattan', 'n_neighbors': 42, 'weights': 'distance'}\n",
      "\n",
      "=============================Test=============================\n",
      "MSE :  1.7302838227429702 %\n",
      "RMSE :  13.154025325895377 %\n",
      "MAE :  9.526694610594983 %\n",
      "++++++++++++++++++++++++++++++++++++++++++++++++++++++++++++\n",
      "time:  640.4947916666666 min\n",
      "\n",
      "\n",
      "***********************TOUR No  10 /10:************************\n",
      "Meilleurs paramètres trouvés :\n",
      "{'metric': 'manhattan', 'n_neighbors': 33, 'weights': 'distance'}\n",
      "\n",
      "=============================Test=============================\n",
      "MSE :  1.739879904999424 %\n",
      "RMSE :  13.19045073149293 %\n",
      "MAE :  9.629674624163957 %\n",
      "++++++++++++++++++++++++++++++++++++++++++++++++++++++++++++\n",
      "time:  706.5140625 min\n",
      "\n",
      "\n",
      "\n",
      "++++++++++++++++++++++++++++++++++++++++++++++++++++++++++++\n",
      "Total time:  706.5140625 min\n",
      "All MSE:  [0.016714430639173192, 0.017563598420910938, 0.017268396127028, 0.01704074961682368, 0.016437080486697987, 0.017480372200215012, 0.016949022395111417, 0.017570510670360053, 0.0173028382274297, 0.01739879904999424]\n",
      "\n",
      "\n",
      "mean MSE 0.01717257978337442  ==  1.7172579783374422 %\n",
      "\n",
      "\n",
      "All RMSE:  [0.1292843015960298, 0.132527726989151, 0.13140926956279758, 0.13054022221837866, 0.12820717798430004, 0.13221335862996225, 0.13018841113982232, 0.13255380292681176, 0.13154025325895377, 0.1319045073149293]\n",
      "\n",
      "\n",
      "******************************************************************************************\n",
      "******************************************************************************************\n",
      "***************** mean RMSE 0.13103690316211364  ==>  13.103690316211363 % *****************\n",
      "******************************************************************************************\n",
      "******************************************************************************************\n",
      "\n",
      "\n",
      "mean MAE :  9.55335632199045 %\n"
     ]
    }
   ],
   "source": [
    "my_knn_regressor(train_fd004, test_fd004)"
   ]
  }
 ],
 "metadata": {
  "colab": {
   "provenance": []
  },
  "gpuClass": "standard",
  "kernelspec": {
   "display_name": "Python 3 (ipykernel)",
   "language": "python",
   "name": "python3"
  },
  "language_info": {
   "codemirror_mode": {
    "name": "ipython",
    "version": 3
   },
   "file_extension": ".py",
   "mimetype": "text/x-python",
   "name": "python",
   "nbconvert_exporter": "python",
   "pygments_lexer": "ipython3",
   "version": "3.10.9"
  }
 },
 "nbformat": 4,
 "nbformat_minor": 1
}
